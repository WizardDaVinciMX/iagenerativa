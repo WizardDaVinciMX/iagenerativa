{
 "cells": [
  {
   "cell_type": "markdown",
   "id": "79dbb3d2-c035-406b-a1c5-c7c0ee733923",
   "metadata": {},
   "source": [
    "# Curso ultrarrápido de Python"
   ]
  },
  {
   "cell_type": "markdown",
   "id": "df3b577c-1481-49ea-9beb-a6a43ff09bf5",
   "metadata": {},
   "source": [
    "Los tipos de datos básicos o escalares en Python son:\n",
    "* enteros\n",
    "* flotantes\n",
    "* caractares\n",
    "* cadenas"
   ]
  },
  {
   "cell_type": "code",
   "execution_count": 1,
   "id": "47d48f79-cf9b-45db-b5e0-e81dade414e4",
   "metadata": {},
   "outputs": [],
   "source": [
    "e = 10\n",
    "f = 10.5\n",
    "c = 'h'\n",
    "cadena = 'Hola'"
   ]
  },
  {
   "cell_type": "markdown",
   "id": "c829a3fc-3331-428c-b695-57db9e4b9fb2",
   "metadata": {},
   "source": [
    "Para ver el contenido de una variable, basta escribir su nombre:"
   ]
  },
  {
   "cell_type": "code",
   "execution_count": 2,
   "id": "19a89fbd-682b-490c-a4b3-5adaeb632cc2",
   "metadata": {},
   "outputs": [
    {
     "data": {
      "text/plain": [
       "'Hola'"
      ]
     },
     "execution_count": 2,
     "metadata": {},
     "output_type": "execute_result"
    }
   ],
   "source": [
    "cadena"
   ]
  },
  {
   "cell_type": "markdown",
   "id": "39f8c5b3-2e72-4806-b125-4fc740417e5a",
   "metadata": {},
   "source": [
    "## Tipos de datos \"especiales\" de Python\n",
    "\n",
    "Python posee varios tipos de datos especiales, a saber:\n",
    "* Listas\n",
    "* Conjuntos\n",
    "* Tuplas\n",
    "* Diccionarios"
   ]
  },
  {
   "cell_type": "code",
   "execution_count": 4,
   "id": "0c4e1c86-4077-4437-884c-6df97cf496c0",
   "metadata": {},
   "outputs": [
    {
     "data": {
      "text/plain": [
       "[1, 3, 5, 7, 9]"
      ]
     },
     "execution_count": 4,
     "metadata": {},
     "output_type": "execute_result"
    }
   ],
   "source": [
    "lista = [1, 3, 5, 7, 9]\n",
    "lista"
   ]
  },
  {
   "cell_type": "code",
   "execution_count": 6,
   "id": "db773dc7-1d81-489a-8048-8025904bea6f",
   "metadata": {},
   "outputs": [
    {
     "data": {
      "text/plain": [
       "{'a', 'e', 'i', 'o', 'u'}"
      ]
     },
     "execution_count": 6,
     "metadata": {},
     "output_type": "execute_result"
    }
   ],
   "source": [
    "conjunto = {'a', 'e', 'i', 'o', 'u'}\n",
    "conjunto"
   ]
  },
  {
   "cell_type": "markdown",
   "id": "bb81500d-29fc-485d-b98d-34b7499c93a9",
   "metadata": {},
   "source": [
    "Para comprobar si un elemento pertenece o no a un conjunto:"
   ]
  },
  {
   "cell_type": "code",
   "execution_count": 7,
   "id": "fc2bf59c-0471-4cff-a999-bf1b4b023f9e",
   "metadata": {},
   "outputs": [
    {
     "data": {
      "text/plain": [
       "False"
      ]
     },
     "execution_count": 7,
     "metadata": {},
     "output_type": "execute_result"
    }
   ],
   "source": [
    "'w' in conjunto"
   ]
  },
  {
   "cell_type": "code",
   "execution_count": 8,
   "id": "7ec036f8-b74a-4c5e-b9c8-603b6ba2daf5",
   "metadata": {},
   "outputs": [
    {
     "data": {
      "text/plain": [
       "('apellido paterno', 'apellido materno', 'nombre')"
      ]
     },
     "execution_count": 8,
     "metadata": {},
     "output_type": "execute_result"
    }
   ],
   "source": [
    "# Ejemplo de una tupla\n",
    "tupla = ('apellido paterno', 'apellido materno', 'nombre')\n",
    "tupla"
   ]
  },
  {
   "cell_type": "code",
   "execution_count": 9,
   "id": "8d200393-b0da-4307-8256-6012abcbbed5",
   "metadata": {},
   "outputs": [
    {
     "data": {
      "text/plain": [
       "{'nombre': 'José', 'apellido': 'Álvarez'}"
      ]
     },
     "execution_count": 9,
     "metadata": {},
     "output_type": "execute_result"
    }
   ],
   "source": [
    "# Ejemplo de diccionario\n",
    "dic = { 'nombre' : 'José', 'apellido' : 'Álvarez'  }\n",
    "dic"
   ]
  },
  {
   "cell_type": "markdown",
   "id": "1988560e-e443-4dee-9ec6-575c0035f616",
   "metadata": {},
   "source": [
    "Los diccionarios permiten buscar valores, usando sus claves:"
   ]
  },
  {
   "cell_type": "code",
   "execution_count": 10,
   "id": "5fdbf131-8e58-4889-80ec-7ed9c2b8d06a",
   "metadata": {},
   "outputs": [
    {
     "data": {
      "text/plain": [
       "'Álvarez'"
      ]
     },
     "execution_count": 10,
     "metadata": {},
     "output_type": "execute_result"
    }
   ],
   "source": [
    "dic['apellido']"
   ]
  },
  {
   "cell_type": "markdown",
   "id": "3455b7fa-ad45-46b8-b370-12fcb3039173",
   "metadata": {},
   "source": [
    "## Recibir datos de forma interactiva\n",
    "\n",
    "Para leer datos del teclado usamos la función input()"
   ]
  },
  {
   "cell_type": "code",
   "execution_count": 13,
   "id": "8b20b070-66fb-402a-aa45-365fcf260a89",
   "metadata": {},
   "outputs": [
    {
     "name": "stdin",
     "output_type": "stream",
     "text": [
      "Introduzca su número de lista 27\n"
     ]
    },
    {
     "data": {
      "text/plain": [
       "27"
      ]
     },
     "execution_count": 13,
     "metadata": {},
     "output_type": "execute_result"
    }
   ],
   "source": [
    "nombre = int( input('Introduzca su número de lista') )\n",
    "nombre"
   ]
  },
  {
   "cell_type": "code",
   "execution_count": 14,
   "id": "747f7bb2-3d09-4d5a-b9e7-73ca868d45c4",
   "metadata": {},
   "outputs": [
    {
     "name": "stdin",
     "output_type": "stream",
     "text": [
      "Introduzca su salario 1572.25\n"
     ]
    },
    {
     "data": {
      "text/plain": [
       "1572.25"
      ]
     },
     "execution_count": 14,
     "metadata": {},
     "output_type": "execute_result"
    }
   ],
   "source": [
    "salario = float( input('Introduzca su salario') )\n",
    "salario"
   ]
  },
  {
   "cell_type": "markdown",
   "id": "b3a0d79f-6351-42d6-bf33-74fe4eb77547",
   "metadata": {},
   "source": [
    "## Estructuras repetitivas en Python\n",
    "Python soporta 2 tipos de estructuras repetitivas:\n",
    "* _while_ cuando no sabemos a priori cuántas veces debe repetirse\n",
    "* _for_ cuando sí lo sabemos"
   ]
  },
  {
   "cell_type": "code",
   "execution_count": 19,
   "id": "3316a8b4-94da-4030-b63e-d6f7e8622451",
   "metadata": {},
   "outputs": [
    {
     "name": "stdout",
     "output_type": "stream",
     "text": [
      "0\n",
      "1\n",
      "2\n",
      "3\n",
      "4\n",
      "5\n",
      "6\n",
      "7\n",
      "8\n",
      "9\n"
     ]
    }
   ],
   "source": [
    "i = 0\n",
    "while i < 10:\n",
    "    print(i)\n",
    "    i+=1"
   ]
  },
  {
   "cell_type": "code",
   "execution_count": 20,
   "id": "1f926a53-6f6c-49a7-8259-830d58aa9a6d",
   "metadata": {},
   "outputs": [
    {
     "name": "stdout",
     "output_type": "stream",
     "text": [
      "0\n",
      "1\n",
      "2\n",
      "3\n",
      "4\n",
      "5\n",
      "6\n",
      "7\n",
      "8\n",
      "9\n"
     ]
    }
   ],
   "source": [
    "for i in range(0,10):\n",
    "    print(i)"
   ]
  },
  {
   "cell_type": "code",
   "execution_count": 21,
   "id": "f1a7befc-a3b2-4752-aae6-bc9589182d77",
   "metadata": {},
   "outputs": [
    {
     "name": "stdout",
     "output_type": "stream",
     "text": [
      "1\n",
      "3\n",
      "5\n",
      "7\n",
      "9\n"
     ]
    }
   ],
   "source": [
    "for i in lista:\n",
    "    print(i)"
   ]
  },
  {
   "cell_type": "code",
   "execution_count": 23,
   "id": "316e0377-da82-4c53-8ec6-ddec2e9d2512",
   "metadata": {},
   "outputs": [
    {
     "data": {
      "text/plain": [
       "[1, 1, 1, 1, 1, 1, 1, 1, 1, 1, 1, 1, 1, 1, 1, 1, 1, 1, 1, 1]"
      ]
     },
     "execution_count": 23,
     "metadata": {},
     "output_type": "execute_result"
    }
   ],
   "source": [
    "# Ejemplo de cosas fumadas y truculentas de listas en Python\n",
    "l2 = [1]*20\n",
    "l2"
   ]
  },
  {
   "cell_type": "markdown",
   "id": "90eb847d-f2a9-4a81-a2e5-e7a9cc13ba8b",
   "metadata": {},
   "source": [
    "## Estructuras de control selectivas en Python"
   ]
  },
  {
   "cell_type": "code",
   "execution_count": null,
   "id": "bf4ac6b3-7a8e-42b4-9f0d-dbff30a528ca",
   "metadata": {},
   "outputs": [],
   "source": [
    "opcion = input(\"Elija una opción (1-4)\")\n",
    "if opcion == \"1\":\n",
    "    print(\"Altas\")\n",
    "elif opcion == \"2\":\n",
    "    print(\"Bajas\")\n",
    "elif opcion == '3':\n",
    "    print('Cambios')\n",
    "elif opcion == '4':\n",
    "    print('Consultas')\n",
    "else:\n",
    "    print('Opción desconocida')"
   ]
  }
 ],
 "metadata": {
  "kernelspec": {
   "display_name": "Python 3 (ipykernel)",
   "language": "python",
   "name": "python3"
  },
  "language_info": {
   "codemirror_mode": {
    "name": "ipython",
    "version": 3
   },
   "file_extension": ".py",
   "mimetype": "text/x-python",
   "name": "python",
   "nbconvert_exporter": "python",
   "pygments_lexer": "ipython3",
   "version": "3.12.5"
  }
 },
 "nbformat": 4,
 "nbformat_minor": 5
}
