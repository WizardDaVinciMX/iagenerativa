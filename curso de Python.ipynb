{
 "cells": [
  {
   "cell_type": "markdown",
   "id": "79dbb3d2-c035-406b-a1c5-c7c0ee733923",
   "metadata": {},
   "source": [
    "# Curso ultrarrápido de Python"
   ]
  },
  {
   "cell_type": "markdown",
   "id": "df3b577c-1481-49ea-9beb-a6a43ff09bf5",
   "metadata": {},
   "source": [
    "Los tipos de datos básicos o escalares en Python son:\n",
    "* enteros\n",
    "* flotantes\n",
    "* caractares\n",
    "* cadenas"
   ]
  },
  {
   "cell_type": "code",
   "execution_count": 1,
   "id": "47d48f79-cf9b-45db-b5e0-e81dade414e4",
   "metadata": {},
   "outputs": [],
   "source": [
    "e = 10\n",
    "f = 10.5\n",
    "c = 'h'\n",
    "cadena = 'Hola'"
   ]
  },
  {
   "cell_type": "markdown",
   "id": "c829a3fc-3331-428c-b695-57db9e4b9fb2",
   "metadata": {},
   "source": [
    "Para ver el contenido de una variable, basta escribir su nombre:"
   ]
  },
  {
   "cell_type": "code",
   "execution_count": 2,
   "id": "19a89fbd-682b-490c-a4b3-5adaeb632cc2",
   "metadata": {},
   "outputs": [
    {
     "data": {
      "text/plain": [
       "'Hola'"
      ]
     },
     "execution_count": 2,
     "metadata": {},
     "output_type": "execute_result"
    }
   ],
   "source": [
    "cadena"
   ]
  },
  {
   "cell_type": "markdown",
   "id": "39f8c5b3-2e72-4806-b125-4fc740417e5a",
   "metadata": {},
   "source": [
    "## Tipos de datos \"especiales\" de Python\n",
    "\n",
    "Python posee varios tipos de datos especiales, a saber:\n",
    "* Listas\n",
    "* Conjuntos\n",
    "* Tuplas\n",
    "* Diccionarios"
   ]
  },
  {
   "cell_type": "code",
   "execution_count": 11,
   "id": "0c4e1c86-4077-4437-884c-6df97cf496c0",
   "metadata": {},
   "outputs": [
    {
     "data": {
      "text/plain": [
       "[1, 3, 5, 7, 9]"
      ]
     },
     "execution_count": 11,
     "metadata": {},
     "output_type": "execute_result"
    }
   ],
   "source": [
    "lista = [1, 3, 5, 7, 9]\n",
    "lista"
   ]
  },
  {
   "cell_type": "code",
   "execution_count": 6,
   "id": "db773dc7-1d81-489a-8048-8025904bea6f",
   "metadata": {},
   "outputs": [
    {
     "data": {
      "text/plain": [
       "{'a', 'e', 'i', 'o', 'u'}"
      ]
     },
     "execution_count": 6,
     "metadata": {},
     "output_type": "execute_result"
    }
   ],
   "source": [
    "conjunto = {'a', 'e', 'i', 'o', 'u'}\n",
    "conjunto"
   ]
  },
  {
   "cell_type": "markdown",
   "id": "bb81500d-29fc-485d-b98d-34b7499c93a9",
   "metadata": {},
   "source": [
    "Para comprobar si un elemento pertenece o no a un conjunto:"
   ]
  },
  {
   "cell_type": "code",
   "execution_count": 7,
   "id": "fc2bf59c-0471-4cff-a999-bf1b4b023f9e",
   "metadata": {},
   "outputs": [
    {
     "data": {
      "text/plain": [
       "False"
      ]
     },
     "execution_count": 7,
     "metadata": {},
     "output_type": "execute_result"
    }
   ],
   "source": [
    "'w' in conjunto"
   ]
  },
  {
   "cell_type": "code",
   "execution_count": 8,
   "id": "7ec036f8-b74a-4c5e-b9c8-603b6ba2daf5",
   "metadata": {},
   "outputs": [
    {
     "data": {
      "text/plain": [
       "('apellido paterno', 'apellido materno', 'nombre')"
      ]
     },
     "execution_count": 8,
     "metadata": {},
     "output_type": "execute_result"
    }
   ],
   "source": [
    "# Ejemplo de una tupla\n",
    "tupla = ('apellido paterno', 'apellido materno', 'nombre')\n",
    "tupla"
   ]
  },
  {
   "cell_type": "code",
   "execution_count": 9,
   "id": "8d200393-b0da-4307-8256-6012abcbbed5",
   "metadata": {},
   "outputs": [
    {
     "data": {
      "text/plain": [
       "{'nombre': 'José', 'apellido': 'Álvarez'}"
      ]
     },
     "execution_count": 9,
     "metadata": {},
     "output_type": "execute_result"
    }
   ],
   "source": [
    "# Ejemplo de diccionario\n",
    "dic = { 'nombre' : 'José', 'apellido' : 'Álvarez'  }\n",
    "dic"
   ]
  },
  {
   "cell_type": "markdown",
   "id": "1988560e-e443-4dee-9ec6-575c0035f616",
   "metadata": {},
   "source": [
    "Los diccionarios permiten buscar valores, usando sus claves:"
   ]
  },
  {
   "cell_type": "code",
   "execution_count": 10,
   "id": "5fdbf131-8e58-4889-80ec-7ed9c2b8d06a",
   "metadata": {},
   "outputs": [
    {
     "data": {
      "text/plain": [
       "'Álvarez'"
      ]
     },
     "execution_count": 10,
     "metadata": {},
     "output_type": "execute_result"
    }
   ],
   "source": [
    "dic['apellido']"
   ]
  },
  {
   "cell_type": "markdown",
   "id": "3455b7fa-ad45-46b8-b370-12fcb3039173",
   "metadata": {},
   "source": [
    "## Recibir datos de forma interactiva\n",
    "\n",
    "Para leer datos del teclado usamos la función input()"
   ]
  },
  {
   "cell_type": "code",
   "execution_count": 13,
   "id": "8b20b070-66fb-402a-aa45-365fcf260a89",
   "metadata": {},
   "outputs": [
    {
     "name": "stdin",
     "output_type": "stream",
     "text": [
      "Introduzca su número de lista 27\n"
     ]
    },
    {
     "data": {
      "text/plain": [
       "27"
      ]
     },
     "execution_count": 13,
     "metadata": {},
     "output_type": "execute_result"
    }
   ],
   "source": [
    "nombre = int( input('Introduzca su número de lista') )\n",
    "nombre"
   ]
  },
  {
   "cell_type": "code",
   "execution_count": 14,
   "id": "747f7bb2-3d09-4d5a-b9e7-73ca868d45c4",
   "metadata": {},
   "outputs": [
    {
     "name": "stdin",
     "output_type": "stream",
     "text": [
      "Introduzca su salario 1572.25\n"
     ]
    },
    {
     "data": {
      "text/plain": [
       "1572.25"
      ]
     },
     "execution_count": 14,
     "metadata": {},
     "output_type": "execute_result"
    }
   ],
   "source": [
    "salario = float( input('Introduzca su salario') )\n",
    "salario"
   ]
  },
  {
   "cell_type": "markdown",
   "id": "b3a0d79f-6351-42d6-bf33-74fe4eb77547",
   "metadata": {},
   "source": [
    "## Estructuras repetitivas en Python\n",
    "Python soporta 2 tipos de estructuras repetitivas:\n",
    "* _while_ cuando no sabemos a priori cuántas veces debe repetirse\n",
    "* _for_ cuando sí lo sabemos"
   ]
  },
  {
   "cell_type": "code",
   "execution_count": 19,
   "id": "3316a8b4-94da-4030-b63e-d6f7e8622451",
   "metadata": {},
   "outputs": [
    {
     "name": "stdout",
     "output_type": "stream",
     "text": [
      "0\n",
      "1\n",
      "2\n",
      "3\n",
      "4\n",
      "5\n",
      "6\n",
      "7\n",
      "8\n",
      "9\n"
     ]
    }
   ],
   "source": [
    "i = 0\n",
    "while i < 10:\n",
    "    print(i)\n",
    "    i+=1"
   ]
  },
  {
   "cell_type": "code",
   "execution_count": 20,
   "id": "1f926a53-6f6c-49a7-8259-830d58aa9a6d",
   "metadata": {},
   "outputs": [
    {
     "name": "stdout",
     "output_type": "stream",
     "text": [
      "0\n",
      "1\n",
      "2\n",
      "3\n",
      "4\n",
      "5\n",
      "6\n",
      "7\n",
      "8\n",
      "9\n"
     ]
    }
   ],
   "source": [
    "for i in range(0,10):\n",
    "    print(i)"
   ]
  },
  {
   "cell_type": "code",
   "execution_count": 21,
   "id": "f1a7befc-a3b2-4752-aae6-bc9589182d77",
   "metadata": {},
   "outputs": [
    {
     "name": "stdout",
     "output_type": "stream",
     "text": [
      "1\n",
      "3\n",
      "5\n",
      "7\n",
      "9\n"
     ]
    }
   ],
   "source": [
    "for i in lista:\n",
    "    print(i)"
   ]
  },
  {
   "cell_type": "code",
   "execution_count": 23,
   "id": "316e0377-da82-4c53-8ec6-ddec2e9d2512",
   "metadata": {},
   "outputs": [
    {
     "data": {
      "text/plain": [
       "[1, 1, 1, 1, 1, 1, 1, 1, 1, 1, 1, 1, 1, 1, 1, 1, 1, 1, 1, 1]"
      ]
     },
     "execution_count": 23,
     "metadata": {},
     "output_type": "execute_result"
    }
   ],
   "source": [
    "# Ejemplo de cosas fumadas y truculentas de listas en Python\n",
    "l2 = [1]*20\n",
    "l2"
   ]
  },
  {
   "cell_type": "markdown",
   "id": "90eb847d-f2a9-4a81-a2e5-e7a9cc13ba8b",
   "metadata": {},
   "source": [
    "## Estructuras de control selectivas en Python"
   ]
  },
  {
   "cell_type": "code",
   "execution_count": 2,
   "id": "bf4ac6b3-7a8e-42b4-9f0d-dbff30a528ca",
   "metadata": {},
   "outputs": [
    {
     "name": "stdin",
     "output_type": "stream",
     "text": [
      "Elija una opción (1-4) 5\n"
     ]
    },
    {
     "name": "stdout",
     "output_type": "stream",
     "text": [
      "Opción desconocida\n"
     ]
    }
   ],
   "source": [
    "opcion = input(\"Elija una opción (1-4)\")\n",
    "if opcion == \"1\":\n",
    "    print(\"Altas\")\n",
    "elif opcion == \"2\":\n",
    "    print(\"Bajas\")\n",
    "elif opcion == '3':\n",
    "    print('Cambios')\n",
    "elif opcion == '4':\n",
    "    print('Consultas')\n",
    "else:\n",
    "    print('Opción desconocida')"
   ]
  },
  {
   "cell_type": "markdown",
   "id": "e9a38f86-92a4-49c2-a133-9ecb914de849",
   "metadata": {},
   "source": [
    "## Programación estructurada en Python\n",
    "Python permite la creación de funciones y/o procedimientos, como otros lenguajes:"
   ]
  },
  {
   "cell_type": "code",
   "execution_count": 3,
   "id": "cd13fa72-3405-4815-9764-8229e0ecad97",
   "metadata": {},
   "outputs": [],
   "source": [
    "def bisiesto( aa ):\n",
    "    if aa % 4 == 0:\n",
    "        return True\n",
    "    else:\n",
    "        return False\n"
   ]
  },
  {
   "cell_type": "code",
   "execution_count": 4,
   "id": "f3074d93-b023-4476-a4b2-f3395e1e910d",
   "metadata": {},
   "outputs": [
    {
     "name": "stdout",
     "output_type": "stream",
     "text": [
      "False\n"
     ]
    }
   ],
   "source": [
    "print( bisiesto(2025) ) "
   ]
  },
  {
   "cell_type": "code",
   "execution_count": 34,
   "id": "b95b0925-98f9-464a-b081-1216d2f7ccad",
   "metadata": {},
   "outputs": [],
   "source": [
    "def imprimirLista():\n",
    "    global lista\n",
    "    print( lista )"
   ]
  },
  {
   "cell_type": "code",
   "execution_count": 35,
   "id": "4359499c-a9fd-4c34-b4e0-8877fd041d71",
   "metadata": {},
   "outputs": [
    {
     "name": "stdout",
     "output_type": "stream",
     "text": [
      "[1, 3, 5, 7, 9]\n"
     ]
    }
   ],
   "source": [
    "imprimirLista()"
   ]
  },
  {
   "cell_type": "code",
   "execution_count": 15,
   "id": "b17b22cf-a1ad-4b30-8250-25e3e30d1f04",
   "metadata": {},
   "outputs": [
    {
     "name": "stdin",
     "output_type": "stream",
     "text": [
      "Introduzca el año: 2024\n"
     ]
    },
    {
     "name": "stdout",
     "output_type": "stream",
     "text": [
      "El año es bisiesto\n"
     ]
    }
   ],
   "source": [
    "def main():\n",
    "    b = bisiesto( int( input(\"Introduzca el año:\") ) )\n",
    "    if b == True:\n",
    "        print(\"El año es bisiesto\")\n",
    "    else:\n",
    "        print(\"El año no es bisiesto\")\n",
    "main()"
   ]
  },
  {
   "cell_type": "markdown",
   "id": "68ce9677-cb97-4d2f-bcba-92ee699300da",
   "metadata": {},
   "source": [
    "## Programación Orientada a Objetos (OOP) en Python\n",
    "Aunque se llama \"orientada a objetos\", los programadores nos pasamos\n",
    "la mayor parte del tiempo creando **clases**, no _objetos_.\n",
    "\n",
    "¿Qué es una clase? Es una **plantilla** para fabricar objetos. "
   ]
  },
  {
   "cell_type": "code",
   "execution_count": 40,
   "id": "31ec4f22-92c5-4d70-a1c3-03509698d54f",
   "metadata": {},
   "outputs": [],
   "source": [
    "class Fraccion( object ):\n",
    "    def __init__( self, nn = 1, dd = 1):\n",
    "        # Encontramos el mcd del numerador y denominador que nos pasan\n",
    "        m = self.mcd(nn, dd)\n",
    "        # Dividimos el numerador y denominador entre el mcd\n",
    "        self.n = nn // m\n",
    "        self.d = dd // m\n",
    "        # Si el denominador es negativo, invertimos el signo de ambos\n",
    "        if self.d < 0:\n",
    "            self.n = -self.n\n",
    "            self.d = -self.d\n",
    "\n",
    "    # Algoritmo de Euclides para obtener el mcd\n",
    "    def mcd(self, a, b):\n",
    "        if a % b == 0:\n",
    "            return b\n",
    "        else:\n",
    "            return self.mcd(b, a % b)\n",
    "\n",
    "    def suma(self, f):\n",
    "        nt = self.n * f.d + self.d * f.n\n",
    "        dt = self.d * f.d\n",
    "        return Fraccion(nt, dt)\n",
    "\n",
    "    def resta(self, f):\n",
    "        nt = self.n * f.d - self.d * f.n\n",
    "        dt = self.d * f.d\n",
    "        return Fraccion(nt, dt)\n",
    "\n",
    "    def producto(self, f):\n",
    "        nt = self.n * f.n\n",
    "        dt = self.d * f.d\n",
    "        return Fraccion(nt, dt) \n",
    "\n",
    "    def division(self, f):\n",
    "        nt = self.n * f.d\n",
    "        dt = self.d * f.n\n",
    "        return Fraccion(nt, dt)\n",
    "\n",
    "    def comoCadena(self):\n",
    "        return str(self.n) + \"/\" + str(self.d)\n",
    "\n",
    "        "
   ]
  },
  {
   "cell_type": "code",
   "execution_count": 46,
   "id": "f43bb04d-32ec-4027-9a0d-d268fcea21d9",
   "metadata": {},
   "outputs": [],
   "source": [
    "f1 = Fraccion( 1, 2 )\n",
    "f2 = Fraccion( 3, 4 )\n",
    "f3 = f1.suma( f2 )\n",
    "f4 = f1.resta( f2 )\n",
    "f5 = f1.producto( f2 )\n",
    "f6 = f1.division( f2 ) \n",
    "f7 = Fraccion(dd = 5)"
   ]
  },
  {
   "cell_type": "code",
   "execution_count": 47,
   "id": "58a1bc25-1b35-43ba-a99c-a110796b8573",
   "metadata": {},
   "outputs": [
    {
     "name": "stdout",
     "output_type": "stream",
     "text": [
      "La suma vale 5/4\n",
      "La resta vale -1/4\n",
      "El producto vale 3/8\n",
      "La división vale 2/3\n",
      "La fracción sin parámetros vale 1/5\n"
     ]
    }
   ],
   "source": [
    "print(\"La suma vale \" + f3.comoCadena() )\n",
    "print(\"La resta vale \" + f4.comoCadena() )\n",
    "print(\"El producto vale \" + f5.comoCadena() )\n",
    "print(\"La división vale \" + f6.comoCadena() )\n",
    "print(\"La fracción sin parámetros vale \" + f7.comoCadena())"
   ]
  }
 ],
 "metadata": {
  "kernelspec": {
   "display_name": "Python 3 (ipykernel)",
   "language": "python",
   "name": "python3"
  },
  "language_info": {
   "codemirror_mode": {
    "name": "ipython",
    "version": 3
   },
   "file_extension": ".py",
   "mimetype": "text/x-python",
   "name": "python",
   "nbconvert_exporter": "python",
   "pygments_lexer": "ipython3",
   "version": "3.12.5"
  }
 },
 "nbformat": 4,
 "nbformat_minor": 5
}
